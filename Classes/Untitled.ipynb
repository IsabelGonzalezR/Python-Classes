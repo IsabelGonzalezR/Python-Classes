{
 "cells": [
  {
   "cell_type": "code",
   "execution_count": 1,
   "id": "fc8cc4d2-af17-48ab-b6aa-5cd22f5acda9",
   "metadata": {},
   "outputs": [],
   "source": [
    "import os"
   ]
  },
  {
   "cell_type": "code",
   "execution_count": 4,
   "id": "3b4328f7-7366-4e06-a92a-cf0ae41e25ec",
   "metadata": {},
   "outputs": [
    {
     "data": {
      "text/plain": [
       "['.ipynb_checkpoints',\n",
       " '.RData',\n",
       " '.Rproj.user',\n",
       " '1 Informe de necesidad (1).docx',\n",
       " '1 Informe de necesidad.pdf',\n",
       " '2023',\n",
       " '2023.01',\n",
       " '5 Informe de necesidad - Servicios Generales (1) (1).docx',\n",
       " 'ambiente.yml',\n",
       " 'Carta de admision.docx',\n",
       " 'Chrome Web Store - Extensiones (1).lnk',\n",
       " 'Chrome Web Store - Extensiones (2).lnk',\n",
       " 'Chrome Web Store - Extensiones.lnk',\n",
       " 'Control de consultorias',\n",
       " 'cursos codigos.xlsx',\n",
       " 'desktop.ini',\n",
       " 'Desktop.Rproj',\n",
       " 'EDITABLES',\n",
       " 'EPR (Autoguardado).doc',\n",
       " 'equipo corazon especificaciones.docx',\n",
       " 'ESTATUTO-ORGANICO-UNIVERSIDAD-ESTATAL-DE-MILAGRO-07-2023-1.pdf',\n",
       " 'estetoscopio cardiológico.docx',\n",
       " 'Facturas',\n",
       " 'FORMATOS.pdf',\n",
       " 'Laboratorios',\n",
       " 'Logistica toma de exaámenes',\n",
       " 'Memorando - Solicitud de inicio de proceso.docx',\n",
       " 'Persona 1 - Chrome.lnk',\n",
       " 'Proforma_COT 2023100007 UNEMI-signed (2).docx',\n",
       " 'Proforma_COT 2023100007 UNEMI-signed.pdf',\n",
       " 'Reportes.xlsx',\n",
       " 'Rocio',\n",
       " 'rpt_certificado_becas_senecyt_posgrado20230921_085555.pdf',\n",
       " 'rpt_certificado_record_academico_alumno20230920_155010.pdf',\n",
       " 'SECCIÓN 5.docx',\n",
       " 'Solicitud de financiamiento.docx',\n",
       " 'tdr - infima.pdf',\n",
       " 'Términos de Referencia TDR (1).docx',\n",
       " 'Términos de Referencia TDR (1).pdf',\n",
       " 'Términos de Referencia TDR - Vallas- (2).docx',\n",
       " 'Términos de Referencia TDR LICENCIAS.docx',\n",
       " 'UNEMI-DCI-2023-0082-MEM.pdf',\n",
       " 'Untitled.ipynb',\n",
       " 'Zoom.lnk',\n",
       " '~$070623_Calculadora_Presupuesto_Referencial_Jun23_vf.xlsx',\n",
       " '~$TA 3 CONVALIDACION DE ERRORES.docx',\n",
       " '~$áctica 3 - González Reyes Rocío Isabel.docx',\n",
       " '~$́rminos de Referencia EQUIPOS MULTIMEDIA.docx',\n",
       " '~WRD3640.tmp',\n",
       " '~WRL1505.tmp',\n",
       " '~WRL3652.tmp']"
      ]
     },
     "execution_count": 4,
     "metadata": {},
     "output_type": "execute_result"
    }
   ],
   "source": [
    "os.listdir('.')"
   ]
  },
  {
   "cell_type": "markdown",
   "id": "26d7cb1f-29ac-4305-9ba1-6760983fa1a9",
   "metadata": {},
   "source": [
    "Escribir texto"
   ]
  },
  {
   "cell_type": "markdown",
   "id": "0fd878ac-6fc3-493c-8e62-7e79d53a9dc8",
   "metadata": {},
   "source": []
  }
 ],
 "metadata": {
  "kernelspec": {
   "display_name": "Python 3 (ipykernel)",
   "language": "python",
   "name": "python3"
  },
  "language_info": {
   "codemirror_mode": {
    "name": "ipython",
    "version": 3
   },
   "file_extension": ".py",
   "mimetype": "text/x-python",
   "name": "python",
   "nbconvert_exporter": "python",
   "pygments_lexer": "ipython3",
   "version": "3.11.5"
  }
 },
 "nbformat": 4,
 "nbformat_minor": 5
}
